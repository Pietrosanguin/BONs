{
 "cells": [
  {
   "cell_type": "markdown",
   "metadata": {},
   "source": [
    "# Informations about our preprocessed text\n",
    "\n",
    "In this notebook we provide some functions useful for an overview of the textual data that we have"
   ]
  },
  {
   "cell_type": "markdown",
   "metadata": {},
   "source": [
    "# 1 WordClouds Creation"
   ]
  },
  {
   "cell_type": "code",
   "execution_count": null,
   "metadata": {},
   "outputs": [],
   "source": [
    "import nltk\n",
    "from nltk.corpus import stopwords\n",
    "from nltk.tokenize import word_tokenize\n",
    "from wordcloud import WordCloud\n",
    "import matplotlib.pyplot as plt\n",
    "\n",
    "# Function to create a wordcloud from a text file\n",
    "def wordcloud_from_file(input_filename):\n",
    "    nltk.download('stopwords')\n",
    "    nltk.download('punkt')\n",
    "\n",
    "    # Reading the text file\n",
    "    with open(str(input_filename), \"r\", encoding=\"utf-8\") as file:\n",
    "        text = file.read()\n",
    "\n",
    "    # Tokenizzazion of the text\n",
    "    words = word_tokenize(text, language='italian')\n",
    "\n",
    "    # Removing stop words\n",
    "    stop_words = set(stopwords.words('italian'))\n",
    "    filtered_words = [word for word in words if word.lower() not in stop_words and word.isalpha()]\n",
    "\n",
    "    # Adding custom stop words\n",
    "    custom_stop_words = set([\"perche\", \"solo\", \"prima\", \"dopo\", \"quel\", \"gia\", \"pero\", \"ancora\", \"quali\", \"qui\", \"piu\", \"poi\", \"cosi\", \"invece\", \"mentre\", \"senza\", \"cosi\", \"proprio\"])\n",
    "    filtered_words = [word for word in filtered_words if word.lower() not in custom_stop_words]\n",
    "\n",
    "\n",
    "    # Unisci le parole filtrate in un unico testo\n",
    "    filtered_text = \" \".join(filtered_words)\n",
    "\n",
    "    # Crea il Word Cloud\n",
    "    wordcloud = WordCloud(width=800, height=400, background_color='white').generate(filtered_text)\n",
    "\n",
    "    # Visualizza il Word Cloud\n",
    "    plt.figure(figsize=(10, 5))\n",
    "    plt.imshow(wordcloud, interpolation='bilinear')\n",
    "    plt.axis(\"off\")\n",
    "    plt.show()\n",
    "\n"
   ]
  },
  {
   "cell_type": "markdown",
   "metadata": {},
   "source": [
    "### Choosing the file\n",
    "\n",
    "Here we can choose the file we want to wordcloud. It is interesting to compare wordclouds of different parties."
   ]
  },
  {
   "cell_type": "code",
   "execution_count": null,
   "metadata": {},
   "outputs": [],
   "source": [
    "TEXT_FILE = 'p1_1_complete_preprocessed.txt'\n",
    "wordcloud_from_file(TEXT_FILE)"
   ]
  }
 ],
 "metadata": {
  "kernelspec": {
   "display_name": ".venv",
   "language": "python",
   "name": "python3"
  },
  "language_info": {
   "name": "python",
   "version": "3.10.11"
  },
  "orig_nbformat": 4
 },
 "nbformat": 4,
 "nbformat_minor": 2
}
